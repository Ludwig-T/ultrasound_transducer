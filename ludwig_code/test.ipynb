{
 "cells": [
  {
   "cell_type": "code",
   "execution_count": 5,
   "metadata": {},
   "outputs": [],
   "source": [
    "import time\n",
    "import datetime"
   ]
  },
  {
   "cell_type": "code",
   "execution_count": 4,
   "metadata": {},
   "outputs": [
    {
     "ename": "NameError",
     "evalue": "name 'time' is not defined",
     "output_type": "error",
     "traceback": [
      "\u001b[1;31m---------------------------------------------------------------------------\u001b[0m",
      "\u001b[1;31mNameError\u001b[0m                                 Traceback (most recent call last)",
      "Cell \u001b[1;32mIn[4], line 2\u001b[0m\n\u001b[0;32m      1\u001b[0m \u001b[38;5;66;03m# Get the current timestamp\u001b[39;00m\n\u001b[1;32m----> 2\u001b[0m timestamp \u001b[38;5;241m=\u001b[39m time\u001b[38;5;241m.\u001b[39mtime()\n\u001b[0;32m      4\u001b[0m \u001b[38;5;66;03m# Convert timestamp to datetime object\u001b[39;00m\n\u001b[0;32m      5\u001b[0m dt_object \u001b[38;5;241m=\u001b[39m datetime\u001b[38;5;241m.\u001b[39mdatetime\u001b[38;5;241m.\u001b[39mfromtimestamp(timestamp)\n",
      "\u001b[1;31mNameError\u001b[0m: name 'time' is not defined"
     ]
    }
   ],
   "source": [
    "# Get the current timestamp\n",
    "timestamp = time.time()\n",
    "\n",
    "# Convert timestamp to datetime object\n",
    "dt_object = datetime.datetime.fromtimestamp(timestamp)\n",
    "\n",
    "# Format datetime object as a string\n",
    "formatted_string = dt_object.strftime(\"%Y-%m-%d %H:%M:%S\")\n",
    "\n",
    "print(formatted_string)"
   ]
  },
  {
   "cell_type": "code",
   "execution_count": 5,
   "metadata": {},
   "outputs": [
    {
     "name": "stdout",
     "output_type": "stream",
     "text": [
      "Number of files in the folder: 2058\n"
     ]
    }
   ],
   "source": [
    "import os\n",
    "\n",
    "def count_files_in_folder(folder_path):\n",
    "    # List all files in the folder\n",
    "    files = os.listdir(folder_path)\n",
    "    # Count the number of files\n",
    "    num_files = len(files)\n",
    "    return num_files\n",
    "\n",
    "# Example usage:\n",
    "folder_path = \"C:/Users/tiston/code/ludwig_code/raw_data\"  # Replace with your folder path\n",
    "num_files = count_files_in_folder(folder_path)\n",
    "print(\"Number of files in the folder:\", num_files)\n"
   ]
  },
  {
   "cell_type": "code",
   "execution_count": 3,
   "metadata": {},
   "outputs": [
    {
     "name": "stdout",
     "output_type": "stream",
     "text": [
      "Number of rows in the CSV: 17162\n"
     ]
    }
   ],
   "source": [
    "import csv\n",
    "\n",
    "def count_csv_rows(filename):\n",
    "    with open(filename, 'r') as csvfile:\n",
    "        csvreader = csv.reader(csvfile)\n",
    "        row_count = sum(1 for row in csvreader)\n",
    "    return row_count\n",
    "\n",
    "# Example usage:\n",
    "filename = \"C:/Users/tiston/code/coordinates.csv\"  # Replace with your CSV file path\n",
    "num_rows = count_csv_rows(filename)\n",
    "print(\"Number of rows in the CSV:\", num_rows)"
   ]
  },
  {
   "cell_type": "code",
   "execution_count": 5,
   "metadata": {},
   "outputs": [
    {
     "data": {
      "text/plain": [
       "2"
      ]
     },
     "execution_count": 5,
     "metadata": {},
     "output_type": "execute_result"
    }
   ],
   "source": [
    "def testing():\n",
    "    global x\n",
    "    x = \"yeet\"\n",
    "\n",
    "testing()\n",
    "x"
   ]
  },
  {
   "cell_type": "code",
   "execution_count": 13,
   "metadata": {},
   "outputs": [],
   "source": [
    "import time\n",
    "\n",
    "timestamp = time.time()\n",
    "time.sleep(3)\n",
    "if time.time() - timestamp < 2:\n",
    "    print(\"Too fast measurement, sleeping\")\n",
    "    time.sleep(2)"
   ]
  },
  {
   "cell_type": "code",
   "execution_count": 10,
   "metadata": {},
   "outputs": [
    {
     "data": {
      "text/plain": [
       "266.0193391642371"
      ]
     },
     "execution_count": 10,
     "metadata": {},
     "output_type": "execute_result"
    }
   ],
   "source": [
    "31.9 / 2058 * 17162"
   ]
  }
 ],
 "metadata": {
  "kernelspec": {
   "display_name": "Python 3",
   "language": "python",
   "name": "python3"
  },
  "language_info": {
   "codemirror_mode": {
    "name": "ipython",
    "version": 3
   },
   "file_extension": ".py",
   "mimetype": "text/x-python",
   "name": "python",
   "nbconvert_exporter": "python",
   "pygments_lexer": "ipython3",
   "version": "3.12.2"
  }
 },
 "nbformat": 4,
 "nbformat_minor": 2
}
