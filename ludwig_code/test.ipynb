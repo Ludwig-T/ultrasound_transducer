{
 "cells": [
  {
   "cell_type": "code",
   "execution_count": 5,
   "metadata": {},
   "outputs": [],
   "source": [
    "import time\n",
    "import datetime"
   ]
  },
  {
   "cell_type": "code",
   "execution_count": 4,
   "metadata": {},
   "outputs": [
    {
     "ename": "NameError",
     "evalue": "name 'time' is not defined",
     "output_type": "error",
     "traceback": [
      "\u001b[1;31m---------------------------------------------------------------------------\u001b[0m",
      "\u001b[1;31mNameError\u001b[0m                                 Traceback (most recent call last)",
      "Cell \u001b[1;32mIn[4], line 2\u001b[0m\n\u001b[0;32m      1\u001b[0m \u001b[38;5;66;03m# Get the current timestamp\u001b[39;00m\n\u001b[1;32m----> 2\u001b[0m timestamp \u001b[38;5;241m=\u001b[39m time\u001b[38;5;241m.\u001b[39mtime()\n\u001b[0;32m      4\u001b[0m \u001b[38;5;66;03m# Convert timestamp to datetime object\u001b[39;00m\n\u001b[0;32m      5\u001b[0m dt_object \u001b[38;5;241m=\u001b[39m datetime\u001b[38;5;241m.\u001b[39mdatetime\u001b[38;5;241m.\u001b[39mfromtimestamp(timestamp)\n",
      "\u001b[1;31mNameError\u001b[0m: name 'time' is not defined"
     ]
    }
   ],
   "source": [
    "# Get the current timestamp\n",
    "timestamp = time.time()\n",
    "\n",
    "# Convert timestamp to datetime object\n",
    "dt_object = datetime.datetime.fromtimestamp(timestamp)\n",
    "\n",
    "# Format datetime object as a string\n",
    "formatted_string = dt_object.strftime(\"%Y-%m-%d %H:%M:%S\")\n",
    "\n",
    "print(formatted_string)"
   ]
  },
  {
   "cell_type": "code",
   "execution_count": 5,
   "metadata": {},
   "outputs": [
    {
     "name": "stdout",
     "output_type": "stream",
     "text": [
      "Number of files in the folder: 2058\n"
     ]
    }
   ],
   "source": [
    "import os\n",
    "\n",
    "def count_files_in_folder(folder_path):\n",
    "    # List all files in the folder\n",
    "    files = os.listdir(folder_path)\n",
    "    # Count the number of files\n",
    "    num_files = len(files)\n",
    "    return num_files\n",
    "\n",
    "# Example usage:\n",
    "folder_path = \"C:/Users/tiston/code/ludwig_code/raw_data\"  # Replace with your folder path\n",
    "num_files = count_files_in_folder(folder_path)\n",
    "print(\"Number of files in the folder:\", num_files)\n"
   ]
  },
  {
   "cell_type": "code",
   "execution_count": 3,
   "metadata": {},
   "outputs": [
    {
     "name": "stdout",
     "output_type": "stream",
     "text": [
      "Number of rows in the CSV: 17162\n"
     ]
    }
   ],
   "source": [
    "import csv\n",
    "\n",
    "def count_csv_rows(filename):\n",
    "    with open(filename, 'r') as csvfile:\n",
    "        csvreader = csv.reader(csvfile)\n",
    "        row_count = sum(1 for row in csvreader)\n",
    "    return row_count\n",
    "\n",
    "# Example usage:\n",
    "filename = \"C:/Users/tiston/code/coordinates.csv\"  # Replace with your CSV file path\n",
    "num_rows = count_csv_rows(filename)\n",
    "print(\"Number of rows in the CSV:\", num_rows)"
   ]
  },
  {
   "cell_type": "code",
   "execution_count": 7,
   "metadata": {},
   "outputs": [
    {
     "data": {
      "text/plain": [
       "'dab'"
      ]
     },
     "execution_count": 7,
     "metadata": {},
     "output_type": "execute_result"
    }
   ],
   "source": [
    "def testing():\n",
    "    global x\n",
    "    x = \"dab\"\n",
    "\n",
    "testing()\n",
    "x"
   ]
  },
  {
   "cell_type": "code",
   "execution_count": 13,
   "metadata": {},
   "outputs": [],
   "source": [
    "import time\n",
    "\n",
    "timestamp = time.time()\n",
    "time.sleep(3)\n",
    "if time.time() - timestamp < 2:\n",
    "    print(\"Too fast measurement, sleeping\")\n",
    "    time.sleep(2)"
   ]
  },
  {
   "cell_type": "code",
   "execution_count": 10,
   "metadata": {},
   "outputs": [
    {
     "data": {
      "text/plain": [
       "266.0193391642371"
      ]
     },
     "execution_count": 10,
     "metadata": {},
     "output_type": "execute_result"
    }
   ],
   "source": [
    "31.9 / 2058 * 17162"
   ]
  },
  {
   "cell_type": "code",
   "execution_count": 11,
   "metadata": {},
   "outputs": [
    {
     "data": {
      "text/plain": [
       "(-100, -100, 10)"
      ]
     },
     "execution_count": 11,
     "metadata": {},
     "output_type": "execute_result"
    }
   ],
   "source": [
    "specifications = {\n",
    "    'X': (-100, -100, 10),  # (min, max, step)\n",
    "    'Y': (0.0, 0.0, 1),      # (min, max, step)\n",
    "    'Z': (-100, 0, 10)       # (min, max, step)\n",
    "}\n",
    "\n",
    "specifications.get('X', (0, 0, 1))"
   ]
  },
  {
   "cell_type": "code",
   "execution_count": 13,
   "metadata": {},
   "outputs": [
    {
     "name": "stdout",
     "output_type": "stream",
     "text": [
      "Converted number: 31250\n"
     ]
    }
   ],
   "source": [
    "def convert_word_to_number(byte1, byte2, byte_order='MSBFirst'):\n",
    "    if byte_order == 'MSBFirst':\n",
    "        msb = byte1\n",
    "        lsb = byte2\n",
    "    else:\n",
    "        msb = byte2\n",
    "        lsb = byte1\n",
    "\n",
    "    # Combine bytes to form the signed 16-bit integer\n",
    "    number = (msb << 8) | lsb\n",
    "\n",
    "    # Check if the number is negative and perform sign extension\n",
    "    if number & 0x8000:\n",
    "        number = -((number ^ 0xFFFF) + 1)\n",
    "\n",
    "    return number\n",
    "\n",
    "# Example usage:\n",
    "byte1 = 0x7A  # Example MSB\n",
    "byte2 = 0x12  # Example LSB\n",
    "byte_order = 'MSBFirst'  # or 'LSBFirst'\n",
    "\n",
    "number = convert_word_to_number(byte1, byte2, byte_order)\n",
    "print(\"Converted number:\", number)"
   ]
  },
  {
   "cell_type": "code",
   "execution_count": 18,
   "metadata": {},
   "outputs": [],
   "source": [
    "byte_data = [36, -34, 35, -42, 36, -58, 38, 1, 37, 74, 37, 29, 36, -35, 36, -72, 35, -75, 37, 29, 37, 76, 36, -46, 35, -4, 36, -75, 37, 99, 35, 112, 36, 47, 34, -4, 36, 105, 36, 125, 35, 53, 36, 71, 37, 92, 36, 80, 36, -100, 35, -126, 36, 36, 36, 121, 37, 22, 36]"
   ]
  },
  {
   "cell_type": "code",
   "execution_count": 22,
   "metadata": {},
   "outputs": [
    {
     "name": "stdout",
     "output_type": "stream",
     "text": [
      "65502\n",
      "65494\n",
      "65478\n",
      "9729\n",
      "9546\n",
      "9501\n",
      "65501\n",
      "65464\n",
      "65461\n",
      "9501\n",
      "9548\n",
      "65490\n",
      "65532\n",
      "65461\n",
      "9571\n",
      "9072\n",
      "9263\n",
      "65532\n",
      "9321\n",
      "9341\n",
      "9013\n",
      "9287\n",
      "9564\n",
      "9296\n",
      "65436\n",
      "65410\n",
      "9252\n",
      "9337\n",
      "9494\n"
     ]
    }
   ],
   "source": [
    "def convert_bytes_to_signed_int(byte1, byte2):\n",
    "    # Combine bytes to form the signed 16-bit integer\n",
    "    number = (byte1 << 8) | byte2\n",
    "\n",
    "    # Check if the number is negative and perform sign extension\n",
    "    if number & 0x8000:\n",
    "        number = -((number ^ 0xFFFF) + 1)\n",
    "\n",
    "    return number\n",
    "\n",
    "# Convert bytes to signed integers (pairs of bytes)\n",
    "signed_integers = [convert_bytes_to_signed_int(byte_data[i], byte_data[i+1]) for i in range(0, len(byte_data) - 1, 2)]\n",
    "\n",
    "# Print the converted signed integers\n",
    "for number in signed_integers:\n",
    "    print(number)"
   ]
  },
  {
   "cell_type": "code",
   "execution_count": 88,
   "metadata": {},
   "outputs": [
    {
     "name": "stdout",
     "output_type": "stream",
     "text": [
      "Agilent Technologies,54832B,MY41000408,A.03.70,0\n",
      "\n"
     ]
    },
    {
     "data": {
      "image/png": "[encoded data removed]",
      "text/plain": [
       "<Figure size 640x480 with 1 Axes>"
      ]
     },
     "metadata": {},
     "output_type": "display_data"
    }
   ],
   "source": [
    "import pyvisa    \n",
    "import time\n",
    "import matplotlib.pyplot as plt\n",
    "\n",
    "rm = pyvisa.ResourceManager()\n",
    "#print(rm.list_resources())\n",
    "\n",
    "#Set up oscilloscope\n",
    "scope = rm.open_resource('TCPIP::10.77.76.3::INSTR')\n",
    "time.sleep(2)\n",
    "print(scope.query('*IDN?'))\n",
    "\n",
    "scope.write(\":WAVeform:FORMat ASCii\")\n",
    "#scope.write(\":WAVeform:FORMat WORD\")  # Set waveform data format to ASCII\n",
    "scope.write(\":WAVeform:POINts MAX\")    # Set number of waveform points to acquire\n",
    "\n",
    "scope.write(\":WAVeform:SOURce CHANnel2\")  # Select Channel as the source\n",
    "time.sleep(2)\n",
    "waveform_data_ascii = scope.query(\":WAVeform:DATA?\")\n",
    "\n",
    "scope.write(\":WAVeform:FORMat BINary\")\n",
    "waveform_data_binary = scope.query_binary_values(\":WAVeform:DATA?\", datatype=\"q\", is_big_endian=False)\n",
    "#plt.plot(waveform_data_ascii[::10000])\n",
    "plt.plot(waveform_data_binary[::10000])\n",
    "plt.show()"
   ]
  },
  {
   "cell_type": "code",
   "execution_count": 98,
   "metadata": {},
   "outputs": [
    {
     "name": "stdout",
     "output_type": "stream",
     "text": [
      "1252275\n",
      "1252275\n",
      "-1938\n",
      "25437\n",
      "3.52595475\n"
     ]
    },
    {
     "data": {
      "image/png": "[encoded data removed]",
      "text/plain": [
       "<Figure size 640x480 with 1 Axes>"
      ]
     },
     "metadata": {},
     "output_type": "display_data"
    }
   ],
   "source": [
    "scope.write(\":WAVeform:FORMat WORd\")\n",
    "waveform_data_binary = scope.query_binary_values(\":WAVeform:DATA?\", datatype=\"h\", is_big_endian=True)\n",
    "y_range = scope.query(\":WAVeform:YRANge?\")\n",
    "x_range = scope.query(\":WAVeform:XRANge?\")\n",
    "y_inc = float(scope.query(\":WAVeform:YINCrement?\"))\n",
    "y_org = float(scope.query(\":WAVeform:YORigin?\"))\n",
    "\n",
    "ascii = waveform_data_ascii.split(\",\")\n",
    "converted_16int = [value*y_inc + y_org for value in waveform_data_binary]\n",
    "\n",
    "\n",
    "\n",
    "time = np.linspace(0, float(x_range), len(converted_16int))\n",
    "plt.plot(time, converted_16int)\n",
    "plt.grid()\n",
    "plt.ylim((-float(y_range)/2, float(y_range)/2))\n",
    "#plt.plot(ascii)\n",
    "waveform_data_binary[0]\n",
    "print(len(ascii))\n",
    "print(len(waveform_data_binary))\n",
    "print(min(waveform_data_binary))\n",
    "print(max(waveform_data_binary))\n",
    "conv = 32736 + 30472\n",
    "print(max(converted_16int) - min(converted_16int))"
   ]
  },
  {
   "cell_type": "code",
   "execution_count": 97,
   "metadata": {},
   "outputs": [
    {
     "data": {
      "text/plain": [
       "0.129833"
      ]
     },
     "execution_count": 97,
     "metadata": {},
     "output_type": "execute_result"
    }
   ],
   "source": [
    "y_inc\n",
    "y_org"
   ]
  },
  {
   "cell_type": "code",
   "execution_count": 67,
   "metadata": {},
   "outputs": [],
   "source": [
    "import numpy as np"
   ]
  },
  {
   "cell_type": "code",
   "execution_count": 82,
   "metadata": {},
   "outputs": [
    {
     "data": {
      "text/plain": [
       "1.6"
      ]
     },
     "execution_count": 82,
     "metadata": {},
     "output_type": "execute_result"
    }
   ],
   "source": [
    "float(y_range)"
   ]
  },
  {
   "cell_type": "code",
   "execution_count": 100,
   "metadata": {},
   "outputs": [],
   "source": [
    "import time\n",
    "\n",
    "time.sleep(0)"
   ]
  },
  {
   "cell_type": "code",
   "execution_count": 7,
   "metadata": {},
   "outputs": [
    {
     "name": "stdout",
     "output_type": "stream",
     "text": [
      "Agilent Technologies,54832B,MY41000408,A.03.70,0\n",
      "\n"
     ]
    }
   ],
   "source": [
    "import pyvisa    \n",
    "import time\n",
    "import matplotlib.pyplot as plt\n",
    "\n",
    "rm = pyvisa.ResourceManager()\n",
    "#print(rm.list_resources())\n",
    "\n",
    "#Set up oscilloscope\n",
    "scope = rm.open_resource('TCPIP::10.77.76.3::INSTR')\n",
    "time.sleep(2)\n",
    "print(scope.query('*IDN?'))\n",
    "\n",
    "trig1 = scope.query(\"TER?\")\n",
    "trig2 = scope.query(\"TER?\")\n",
    "time.sleep(2)\n",
    "trig3 = scope.query(\"TER?\")"
   ]
  },
  {
   "cell_type": "code",
   "execution_count": 8,
   "metadata": {},
   "outputs": [
    {
     "name": "stdout",
     "output_type": "stream",
     "text": [
      "+1\n",
      "\n",
      "+0\n",
      "\n",
      "+1\n",
      "\n"
     ]
    }
   ],
   "source": [
    "print(trig1)\n",
    "print(trig2)\n",
    "print(trig3)"
   ]
  },
  {
   "cell_type": "code",
   "execution_count": 9,
   "metadata": {},
   "outputs": [
    {
     "name": "stdout",
     "output_type": "stream",
     "text": [
      "Total time to complete measurement: 1.8611226851851852 days.\n",
      "Number of data points: 160801\n"
     ]
    }
   ],
   "source": [
    "import csv\n",
    "\n",
    "def generate_coordinates(specifications, filename):\n",
    "    size = 0\n",
    "    with open(filename, 'w', newline='') as csvfile:\n",
    "        writer = csv.writer(csvfile)\n",
    "        writer.writerow([\"X\", \"Y\", \"Z\"])  # Write header\n",
    "\n",
    "        min_x, max_x, step_x = specifications.get('X')\n",
    "        min_y, max_y, step_y = specifications.get('Y')\n",
    "        min_z, max_z, step_z = specifications.get('Z')\n",
    "\n",
    "        # Convert step sizes to integers by multiplying them by a suitable factor\n",
    "        step_x_factor = int(1 / step_x)\n",
    "        step_y_factor = int(1 / step_y)\n",
    "        step_z_factor = int(1 / step_z)\n",
    "\n",
    "        for x in range(int(min_x * step_x_factor), int(max_x * step_x_factor) + 1, 1):\n",
    "            for y in range(int(min_y * step_y_factor), int(max_y * step_y_factor) + 1, 1):\n",
    "                for z in range(int(min_z * step_z_factor), int(max_z * step_z_factor) + 1, 1):\n",
    "                    writer.writerow([x / step_x_factor, y / step_y_factor, z / step_z_factor])\n",
    "                    size += 1\n",
    "    return size\n",
    "\n",
    "if __name__ == \"__main__\":\n",
    "    specifications = {\n",
    "        #    (min, max, step)\n",
    "        'X': (-1, 1, 0.005),  # Horizontal\n",
    "        'Y': (0, 0, 0.05),   # Hydrophone direction\n",
    "        'Z': (-1, 1, 0.005)   # Vertical\n",
    "    }\n",
    "    size = generate_coordinates(specifications, \"coordinates_3d.csv\")\n",
    "    time_per_measurement = 1\n",
    "    print(f\"Total time to complete measurement: {size * time_per_measurement / (60 * 60 * 24)} days.\")\n",
    "    print(f\"Number of data points: {size}\")"
   ]
  },
  {
   "cell_type": "code",
   "execution_count": 4,
   "metadata": {},
   "outputs": [
    {
     "data": {
      "text/plain": [
       "27334434"
      ]
     },
     "execution_count": 4,
     "metadata": {},
     "output_type": "execute_result"
    }
   ],
   "source": [
    "import hickle\n",
    "import os\n",
    "csv_file = os.path.getsize(\"C:/Users/tiston/code/ludwig_code/result_quick/-0.1_-0.1_2024_04_12_13_12_22.csv\")\n",
    "hkl_file = os.path.getsize(\"C:/Users/tiston/code/ludwig_code/result_hkl/-0.5_-0.01_0.0_2024_04_13_04_38_19.hkl\")\n",
    "\n"
   ]
  }
 ],
 "metadata": {
  "kernelspec": {
   "display_name": "Python 3",
   "language": "python",
   "name": "python3"
  },
  "language_info": {
   "codemirror_mode": {
    "name": "ipython",
    "version": 3
   },
   "file_extension": ".py",
   "mimetype": "text/x-python",
   "name": "python",
   "nbconvert_exporter": "python",
   "pygments_lexer": "ipython3",
   "version": "3.12.2"
  }
 },
 "nbformat": 4,
 "nbformat_minor": 2
}
